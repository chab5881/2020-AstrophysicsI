{
 "cells": [
  {
   "cell_type": "markdown",
   "metadata": {},
   "source": [
    " # HW 3 #\n",
    " \n",
    " ## Problem 2 ##\n",
    " \n",
    " Eq. 3.76:\n",
    " \n",
    " $$ P = P_g + P_{rad} = \\frac{\\rho k T}{\\bar{m}} + \\frac{1}{3} a T ^4$$"
   ]
  },
  {
   "cell_type": "code",
   "execution_count": 1,
   "metadata": {},
   "outputs": [
    {
     "name": "stdout",
     "output_type": "stream",
     "text": [
      "Pg_core   1.36e+15  erg/cm^3\n",
      "Pg_solar  1.89e+15  erg/cm^3\n",
      "Prad      2.53e+13  erg/cm^3\n"
     ]
    }
   ],
   "source": [
    "rhoSun = 1.4\n",
    "k = 1.4e-16\n",
    "tempSun = 1e7\n",
    "mH = 1.7e-24\n",
    "m_core = 0.85\n",
    "m_solar = 0.61\n",
    "a = 7.6e-15\n",
    "\n",
    "Pg_core = (rhoSun * k * tempSun) / (m_core * mH)\n",
    "Pg_solar = (rhoSun * k * tempSun) / (m_solar * mH)\n",
    "Prad = (1/3) * a * (tempSun**4)\n",
    "\n",
    "print(\"Pg_core  \", \"%.3g\" % Pg_core, ' erg/cm^3')\n",
    "print(\"Pg_solar \", \"%.3g\" % Pg_solar, ' erg/cm^3')\n",
    "print(\"Prad     \", \"%.3g\" % Prad, ' erg/cm^3')\n"
   ]
  },
  {
   "cell_type": "markdown",
   "metadata": {},
   "source": [
    "As we see above, the kinetic gas pressure (for both the core and the rest of the star) are two orders of magnitude greater than the radiation pressure. Thus the kinetic pressure dominates Eq. 3.76"
   ]
  },
  {
   "cell_type": "markdown",
   "metadata": {},
   "source": [
    "## Problem 4 ##\n",
    "\n",
    "### Part a ###\n",
    "\n",
    "Find P(r):\n",
    "\n",
    "First I rewrite M(r) = 4/3 $\\pi$ r$^3$ $\\rho$, because $\\rho$ is constant over r.\n",
    "\n",
    "Then substitute M(r) into Eq. 3.56, and integrate over r:\n",
    "\n",
    "$$ \\int_R^r \\frac{dP(r)}{dr} dr = - \\int_R^r \\frac{4 \\pi G r^3 \\rho^2}{3 r^2} dr $$\n",
    "\n",
    "$$ P(r) = \\frac{4 \\pi G \\rho^2}{3} \\int_r^R r dr $$\n",
    "\n",
    "$$ P(r) = \\frac{2 \\pi G \\rho^2}{3} (R^2 - r^2) $$"
   ]
  },
  {
   "cell_type": "markdown",
   "metadata": {},
   "source": [
    "### Part b ###\n",
    "Find T(R):\n",
    "\n",
    "Recall that P$_g$ = ($\\rho$ k T) / $\\bar{m}$\n",
    "\n",
    "Plug in the answer for Part a into this equation to solve for T(r):\n",
    "\n",
    "$$ T(r) = \\frac{2 \\pi G \\rho \\bar{m}}{3 \\rho k} (R^2 - r^2) $$"
   ]
  },
  {
   "cell_type": "markdown",
   "metadata": {},
   "source": [
    "### Part c ###\n"
   ]
  },
  {
   "cell_type": "code",
   "execution_count": null,
   "metadata": {},
   "outputs": [],
   "source": []
  }
 ],
 "metadata": {
  "kernelspec": {
   "display_name": "Python 3",
   "language": "python",
   "name": "python3"
  },
  "language_info": {
   "codemirror_mode": {
    "name": "ipython",
    "version": 3
   },
   "file_extension": ".py",
   "mimetype": "text/x-python",
   "name": "python",
   "nbconvert_exporter": "python",
   "pygments_lexer": "ipython3",
   "version": "3.7.4"
  }
 },
 "nbformat": 4,
 "nbformat_minor": 2
}
