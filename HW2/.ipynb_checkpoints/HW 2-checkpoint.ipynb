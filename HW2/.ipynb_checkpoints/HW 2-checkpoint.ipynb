{
 "cells": [
  {
   "cell_type": "code",
   "execution_count": 13,
   "metadata": {},
   "outputs": [],
   "source": [
    "import numpy as np"
   ]
  },
  {
   "cell_type": "markdown",
   "metadata": {},
   "source": [
    "# HW 2: Ch. 2 Q.4 #\n",
    "\n",
    "### a) Find mass ratio of the stars:###"
   ]
  },
  {
   "cell_type": "markdown",
   "metadata": {},
   "source": [
    "* v$_{1obs}$ = 100 km/s = 1 $\\times$ 10$^{7}$ cm/s\n",
    "\n",
    "* v$_{2obs}$ = 200 km/s = 2 $\\times$ 10$^{7}$ cm/s\n",
    "\n",
    "* $\\tau$ = 2 days = 1.728 $\\times$ 10$^{5}$ s"
   ]
  },
  {
   "cell_type": "code",
   "execution_count": 14,
   "metadata": {},
   "outputs": [],
   "source": [
    "v1 = 1e7      #cm/s\n",
    "v2 = 2e7      #cm/s\n",
    "tau = 1.728e5 #s\n",
    "G = 6.67e-8   #cm^3/g*s^2"
   ]
  },
  {
   "cell_type": "markdown",
   "metadata": {},
   "source": [
    "$$\\frac{M_{2}}{M_{1}} = \\frac{|v_{2obs}|}{|v_{1obs}|}$$"
   ]
  },
  {
   "cell_type": "markdown",
   "metadata": {},
   "source": [
    "$\\frac{M_{2}}{M_{1}}$ = 2"
   ]
  },
  {
   "cell_type": "markdown",
   "metadata": {},
   "source": [
    "### b) Calclulate Msin$^3$i for each mass: ###"
   ]
  },
  {
   "cell_type": "markdown",
   "metadata": {},
   "source": [
    "Kepler's Law in Eq. 2.42:"
   ]
  },
  {
   "cell_type": "markdown",
   "metadata": {},
   "source": [
    "$$ (M_1 + M_2) sin^3 i = \\frac{\\tau (|v_{1obs}| + |v_{2obs}|)^3}{2 \\pi G} $$"
   ]
  },
  {
   "cell_type": "markdown",
   "metadata": {},
   "source": [
    "Use Ratio to isolate M$_1$:"
   ]
  },
  {
   "cell_type": "markdown",
   "metadata": {},
   "source": [
    "$$ (M_1 + 2M_1) sin^3 i = \\frac{\\tau (|v_{1obs}| + |v_{2obs}|)^3}{2 \\pi G} = 0.37$$"
   ]
  },
  {
   "cell_type": "markdown",
   "metadata": {},
   "source": [
    "$$ M_1 sin^3 i = \\frac{\\tau (|v_{1obs}| + |v_{2obs}|)^3}{6 \\pi G} $$"
   ]
  },
  {
   "cell_type": "code",
   "execution_count": 23,
   "metadata": {},
   "outputs": [
    {
     "name": "stdout",
     "output_type": "stream",
     "text": [
      "1.8647794255875758 Solar Masses\n"
     ]
    }
   ],
   "source": [
    "m1sin3i = ((tau * (v1 + v2)**3) / (6 * np.pi * G)) / 1.99e33\n",
    "print(m1sin3i,'Solar Masses')"
   ]
  },
  {
   "cell_type": "markdown",
   "metadata": {},
   "source": [
    "$$ M_2 sin^3 i = \\frac{\\tau (|v_{1obs}| + |v_{2obs}|)^3}{3 \\pi G} $$"
   ]
  },
  {
   "cell_type": "code",
   "execution_count": 25,
   "metadata": {},
   "outputs": [
    {
     "name": "stdout",
     "output_type": "stream",
     "text": [
      "3.7295588511751516 Solar Masses\n"
     ]
    }
   ],
   "source": [
    "m2sin3i = ((tau * (v1 + v2)**3) / (3 * np.pi * G)) / 1.99e33\n",
    "print(m2sin3i,'Solar Masses')"
   ]
  },
  {
   "cell_type": "markdown",
   "metadata": {},
   "source": [
    "### c) Calculate mean expectation and star masses ###"
   ]
  },
  {
   "cell_type": "markdown",
   "metadata": {},
   "source": [
    "$$\\underline{Hint}egral \\int_0^\\pi \\int_0^2\\pi sin^3 \\theta sin \\phi d\\theta d\\phi = 8/3$$"
   ]
  },
  {
   "cell_type": "markdown",
   "metadata": {},
   "source": [
    "Mean expectation value of sin$^3$i = ($\\pi$ / 2) / Hintegral = 3 $\\pi$ / 16"
   ]
  },
  {
   "cell_type": "code",
   "execution_count": 29,
   "metadata": {},
   "outputs": [
    {
     "name": "stdout",
     "output_type": "stream",
     "text": [
      "3.165747875822164 Solar Masses\n"
     ]
    }
   ],
   "source": [
    "#M1\n",
    "m1 = (16 * m1sin3i) / (3 * np.pi)\n",
    "print(m1, 'Solar Masses')"
   ]
  },
  {
   "cell_type": "code",
   "execution_count": 30,
   "metadata": {},
   "outputs": [
    {
     "name": "stdout",
     "output_type": "stream",
     "text": [
      "6.331495751644328 Solar Masses\n"
     ]
    }
   ],
   "source": [
    "#M2\n",
    "m2 = (16 * m2sin3i) / (3 * np.pi)\n",
    "print(m2, 'Solar Masses')"
   ]
  },
  {
   "cell_type": "code",
   "execution_count": null,
   "metadata": {},
   "outputs": [],
   "source": []
  }
 ],
 "metadata": {
  "kernelspec": {
   "display_name": "Python 3",
   "language": "python",
   "name": "python3"
  },
  "language_info": {
   "codemirror_mode": {
    "name": "ipython",
    "version": 3
   },
   "file_extension": ".py",
   "mimetype": "text/x-python",
   "name": "python",
   "nbconvert_exporter": "python",
   "pygments_lexer": "ipython3",
   "version": "3.7.4"
  }
 },
 "nbformat": 4,
 "nbformat_minor": 2
}
